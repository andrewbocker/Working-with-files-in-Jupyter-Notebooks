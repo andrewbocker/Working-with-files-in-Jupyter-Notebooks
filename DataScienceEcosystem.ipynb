{
  "nbformat": 4,
  "nbformat_minor": 0,
  "metadata": {
    "colab": {
      "provenance": []
    },
    "kernelspec": {
      "name": "python3",
      "display_name": "Python 3"
    },
    "language_info": {
      "name": "python"
    }
  },
  "cells": [
    {
      "cell_type": "markdown",
      "source": [
        "# Data Science Tools and Ecosystem"
      ],
      "metadata": {
        "id": "BbpBzuKLWFwy"
      }
    },
    {
      "cell_type": "markdown",
      "source": [
        "In this notebook, Data Science Tools and Ecosystem are summarized."
      ],
      "metadata": {
        "id": "9OTl53bzXpAU"
      }
    },
    {
      "cell_type": "markdown",
      "source": [
        "Some of the popular languages that Data Scientists use are:\n",
        "\n",
        "\n",
        "1.   Python\n",
        "2.   R\n",
        "3.   SQL\n",
        "\n",
        "\n"
      ],
      "metadata": {
        "id": "JNPEw61BXtbp"
      }
    },
    {
      "cell_type": "markdown",
      "source": [
        "Some of the commonly used libraries used by Data Scientists include:\n",
        "\n",
        "\n",
        "\n",
        "1.   Matplotlib\n",
        "2.   Numpy\n",
        "3.   Pandas\n",
        "4.   Seaborn\n",
        "5.   Scikit learn\n",
        "6.   Tensorflow\n",
        "7.   Pytorch\n",
        "8.   Keras\n",
        "\n"
      ],
      "metadata": {
        "id": "xj9zqjJrYaQR"
      }
    },
    {
      "cell_type": "markdown",
      "source": [
        "| Data Science Tools        |\n",
        "|---------------------------|\n",
        "| Jupyter Notebook          |\n",
        "| RStudio                   |\n",
        "| Apache Zeppelin           |\n"
      ],
      "metadata": {
        "id": "Wl_xlvSxbUIl"
      }
    },
    {
      "cell_type": "markdown",
      "source": [
        "Below are a few examples of evaluating arithmetic expressions in Python."
      ],
      "metadata": {
        "id": "fr0FimOAcaA-"
      }
    },
    {
      "cell_type": "code",
      "source": [
        "#This a simple arithmetic expression to mutiply then add integers\n",
        "(3*4)+5\n"
      ],
      "metadata": {
        "colab": {
          "base_uri": "https://localhost:8080/"
        },
        "id": "3FjH8fhdcfRV",
        "outputId": "ab622782-caf9-4bec-9753-965b80a399fc"
      },
      "execution_count": 5,
      "outputs": [
        {
          "output_type": "execute_result",
          "data": {
            "text/plain": [
              "17"
            ]
          },
          "metadata": {},
          "execution_count": 5
        }
      ]
    },
    {
      "cell_type": "code",
      "source": [
        "#This will convert 200 minutes to hours by diving by 60\n",
        "200/60"
      ],
      "metadata": {
        "colab": {
          "base_uri": "https://localhost:8080/"
        },
        "id": "Mul7xab2c3Uv",
        "outputId": "f6d74c7e-a1ea-4de2-c86e-9b4baca8bb86"
      },
      "execution_count": 6,
      "outputs": [
        {
          "output_type": "execute_result",
          "data": {
            "text/plain": [
              "3.3333333333333335"
            ]
          },
          "metadata": {},
          "execution_count": 6
        }
      ]
    },
    {
      "cell_type": "markdown",
      "source": [
        "Objectives of the notebook:\n",
        "\n",
        "1. Understand basic arithmetic operations in jupyter notebook.\n",
        "2. Review of the main languages for data science.\n",
        "3. Review of the main libraries for data science.\n",
        "4. To give basic format to a Jupyter Notebook.\n",
        "\n",
        "Key takeaway:\n",
        "\n",
        "1. Basic operations.\n",
        "2. Document formating.\n",
        "3. Create tables.\n",
        "4. Create lists.\n",
        "5. Create text and code cells.\n",
        "6. Write comments in code."
      ],
      "metadata": {
        "id": "-teO5voOdO3m"
      }
    },
    {
      "cell_type": "markdown",
      "source": [
        "## **Author: Andrew Bocker Páez**"
      ],
      "metadata": {
        "id": "6bwvtdPreEXy"
      }
    }
  ]
}